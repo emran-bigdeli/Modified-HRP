{
  "nbformat": 4,
  "nbformat_minor": 0,
  "metadata": {
    "colab": {
      "name": "HRP.ipynb",
      "provenance": [],
      "collapsed_sections": [],
      "include_colab_link": true
    },
    "kernelspec": {
      "name": "python3",
      "display_name": "Python 3"
    },
    "language_info": {
      "name": "python"
    }
  },
  "cells": [
    {
      "cell_type": "markdown",
      "metadata": {
        "id": "view-in-github",
        "colab_type": "text"
      },
      "source": [
        "<a href=\"https://colab.research.google.com/github/emran-bigdeli/Modified-HRP/blob/main/Modified-HRP.ipynb\" target=\"_parent\"><img src=\"https://colab.research.google.com/assets/colab-badge.svg\" alt=\"Open In Colab\"/></a>"
      ]
    },
    {
      "cell_type": "code",
      "metadata": {
        "id": "77byHwggUpg5"
      },
      "source": [
        "#!pip install portfoliolab\n"
      ],
      "execution_count": null,
      "outputs": []
    },
    {
      "cell_type": "code",
      "metadata": {
        "colab": {
          "base_uri": "https://localhost:8080/"
        },
        "id": "vSFFboFCD9sI",
        "outputId": "3960833b-f7b8-43e7-b032-7549915edf79"
      },
      "source": [
        "import matplotlib.pyplot as mpl\n",
        "import scipy.cluster.hierarchy as sch,random,numpy as np,pandas as pd\n",
        "\n",
        "def getIVP(cov,**kargs):\n",
        "  # Compute the inverse-variance portfolio\n",
        "  ivp=1./np.diag(cov)\n",
        "  ivp/=ivp.sum()\n",
        "  return ivp\n",
        "def getClusterVar(cov,cItems):\n",
        "  # Compute variance per cluster\n",
        "  cov_=cov.loc[cItems,cItems] # matrix slice\n",
        "  w_=getIVP(cov_).reshape(-1,1) #make a vector of porfolio weights\n",
        "  cVar=np.dot(np.dot(w_.T,cov_),w_)[0,0] #compute variance simply\n",
        "  return cVar\n",
        "def getQuasiDiag(link):\n",
        "  # Sort clustered items by distance\n",
        "  link=link.astype(int) \n",
        "  sortIx=pd.Series([link[-1,0],link[-1,1]])\n",
        "  numItems=link[-1,3] # number of original items\n",
        "  \n",
        "  while sortIx.max()>=numItems:\n",
        "    sortIx.index=range(0,sortIx.shape[0]*2,2) # make space\n",
        "    df0=sortIx[sortIx>=numItems] # find clusters \n",
        "    i=df0.index; j=df0.values-numItems\n",
        "    sortIx[i]=link[j,0] # item 1\n",
        "    df0=pd.Series(link[j,1],index=i+1)\n",
        "    sortIx=sortIx.append(df0) # item 2\n",
        "    sortIx=sortIx.sort_index() # re-sort\n",
        "    sortIx.index=range(sortIx.shape[0]) # re-index\n",
        "    \n",
        "  return sortIx.tolist()\n",
        "\n",
        "def getRecBipart(cov,sortIx):\n",
        "# Compute HRP alloc\n",
        "  w=pd.Series(1,index=sortIx)\n",
        "  cItems=[sortIx] # initialize all items in one cluster\n",
        "  while len(cItems)>0:\n",
        "    cItems=[i[j:k] for i in cItems for j,k in ((0,len(i)//2), (len(i)//2,len(i))) if len(i)>1] # bi-section\n",
        "    #print(cItems)\n",
        "    for i in range(0,len(cItems),2): # parse in pairs\n",
        "      cItems0=cItems[i] # cluster 1\n",
        "      cItems1=cItems[i+1] # cluster 2\n",
        "      cVar0=getClusterVar(cov,cItems0)\n",
        "      cVar1=getClusterVar(cov,cItems1)\n",
        "      alpha=1-cVar0/(cVar0+cVar1)\n",
        "      w[cItems0]*=alpha # weight 1\n",
        "      w[cItems1]*=1-alpha # weight 2\n",
        "  return w\n",
        "def correlDist(corr):\n",
        "  # A distance matrix based on correlation, where 0<=d[i,j]<=1\n",
        "  # This is a proper distance metric\n",
        "  dist=((1-corr)/2.)**.5 # distance matrix\n",
        "  return dist\n",
        "def plotCorrMatrix(path,corr,labels=None):\n",
        "  # Heatmap of the correlation matrix\n",
        "  if labels is None:labels=[]\n",
        "  mpl.pcolor(corr)\n",
        "  mpl.colorbar()\n",
        "  mpl.yticks(np.arange(.5,corr.shape[0]+.5),labels)\n",
        "  mpl.xticks(np.arange(.5,corr.shape[0]+.5),labels)\n",
        "  mpl.savefig(path)\n",
        "  mpl.clf();mpl.close() # reset pylab\n",
        "  return\n",
        "def generateData(nObs,size0,size1,sigma1):\n",
        "  # Time series of correlated variables\n",
        "  #1) generating some uncorrelated data\n",
        "  np.random.seed(seed=12345);random.seed(12345)\n",
        "  x=np.random.normal(0,1,size=(nObs,size0)) # each row is a variable\n",
        "\n",
        "  cols=[random.randint(0,(size0 - 1)) for i in range(size1)]\n",
        "  y=x[:,cols]+np.random.normal(0,sigma1,size=(nObs,len(cols)))\n",
        "  x=np.append(x,y,axis=1)\n",
        "  x=pd.DataFrame(x,columns=range(1,x.shape[1]+1))\n",
        "  return x,cols\n",
        "\n",
        "\n",
        "#1) Generate correlated data\n",
        "nObs,size0,size1,sigma1=10000,5,5,.25\n",
        "x,cols = generateData(nObs,size0,size1,sigma1)\n",
        "#print [(j+1,size0+i) for i,j in enumerate(cols,1)]\n",
        "cov,corr=x.cov(),x.corr()\n",
        "#2) compute and plot correl matrix\n",
        "plotCorrMatrix('HRP3_corr0.png',corr,labels=corr.columns)\n",
        "#3) cluster\n",
        "dist=correlDist(corr)\n",
        "link=sch.linkage(dist,'single')\n",
        "sortIx=getQuasiDiag(link)\n",
        "sortIx=corr.index[sortIx].tolist() # recover labels\n",
        "df0=corr.loc[sortIx,sortIx] # reorder\n",
        "plotCorrMatrix('HRP3_corr1.png',df0,labels=df0.columns)\n",
        "#4) Capital allocation\n",
        "hrp=getRecBipart(cov,sortIx)\n",
        "print (hrp)"
      ],
      "execution_count": 2,
      "outputs": [
        {
          "output_type": "stream",
          "name": "stderr",
          "text": [
            "/usr/local/lib/python3.7/dist-packages/ipykernel_launcher.py:86: ClusterWarning: scipy.cluster: The symmetric non-negative hollow observation matrix looks suspiciously like an uncondensed distance matrix\n"
          ]
        },
        {
          "output_type": "stream",
          "name": "stdout",
          "text": [
            "8     0.071408\n",
            "3     0.075961\n",
            "9     0.125317\n",
            "2     0.067596\n",
            "10    0.063236\n",
            "1     0.109945\n",
            "7     0.103968\n",
            "5     0.193357\n",
            "4     0.097549\n",
            "6     0.091662\n",
            "dtype: float64\n"
          ]
        }
      ]
    },
    {
      "cell_type": "code",
      "metadata": {
        "id": "rgrQwy1TvPCN"
      },
      "source": [
        "!pip install yfinance\n",
        "import yfinance as yf\n",
        "import pandas as pd\n",
        "import numpy as np\n",
        "All_Crypto=pd.DataFrame()\n",
        "Crypto_list= ['BTC-USD', 'ETH-USD', 'LTC-USD', 'BNB-USD', 'ADA-USD', 'XRP-USD', 'DOGE-USD', 'SOL1-USD', 'HEX-USD', 'DOT1-USD']\n",
        "for symb in Crypto_list:\n",
        "    data= pd.DataFrame(yf.Ticker(symb).history(start=\"2019-01-01\", end=\"2021-08-08\")['Close']).transpose()\n",
        "    data.to_csv(symb + '.csv')\n",
        "    if symb == 'BTC-USD':\n",
        "      All_Crypto = data.copy()\n",
        "    else:\n",
        "      All_Crypto=All_Crypto.append(data)\n",
        "All_Crypto.index=[Crypto_list]\n",
        "All_Crypto=All_Crypto.transpose()\n",
        "All_Crypto = All_Crypto.pct_change(1)\n",
        "\n",
        "\n"
      ],
      "execution_count": 3,
      "outputs": []
    },
    {
      "cell_type": "code",
      "metadata": {
        "colab": {
          "base_uri": "https://localhost:8080/",
          "height": 561
        },
        "id": "mlZeAtDmkoRo",
        "outputId": "c75a0e47-f94a-4f2a-9a29-124ed9af5e36"
      },
      "source": [
        "cov,corr=All_Crypto.cov(),All_Crypto.corr()\n",
        "#2) compute and plot correl matrix\n",
        "plotCorrMatrix('HRP3_corr0.png',corr,labels=corr.columns)\n",
        "#3) cluster\n",
        "dist=correlDist(corr)\n",
        "link=sch.linkage(dist,'single')\n",
        "sortIx=getQuasiDiag(link)\n",
        "sortIx=corr.index[sortIx].tolist() # recover labels\n",
        "df0=corr.loc[sortIx,sortIx] # reorder\n",
        "plotCorrMatrix('HRP3_corr1.png',df0,labels=df0.columns)\n",
        "#4) Capital allocation\n",
        "hrp=getRecBipart(cov,sortIx)\n",
        "print (hrp*100)\n",
        "def llf(id):\n",
        "    for i in range(10):\n",
        "      if i == id:\n",
        "        return Crypto_list[i]\n",
        "sch.dendrogram(link,leaf_label_func=llf, leaf_rotation=90 )\n",
        "mpl.show()"
      ],
      "execution_count": 4,
      "outputs": [
        {
          "output_type": "stream",
          "name": "stderr",
          "text": [
            "/usr/local/lib/python3.7/dist-packages/ipykernel_launcher.py:6: ClusterWarning: scipy.cluster: The symmetric non-negative hollow observation matrix looks suspiciously like an uncondensed distance matrix\n",
            "  \n"
          ]
        },
        {
          "output_type": "stream",
          "name": "stdout",
          "text": [
            "(HEX-USD,)      1.056327\n",
            "(DOGE-USD,)     6.783274\n",
            "(SOL1-USD,)     9.466961\n",
            "(DOT1-USD,)     7.026176\n",
            "(XRP-USD,)     12.155632\n",
            "(BNB-USD,)     12.378345\n",
            "(ADA-USD,)     12.835165\n",
            "(BTC-USD,)     23.643790\n",
            "(ETH-USD,)      7.873415\n",
            "(LTC-USD,)      6.780916\n",
            "dtype: float64\n"
          ]
        },
        {
          "output_type": "display_data",
          "data": {
            "image/png": "[encoded data removed]",
            "text/plain": [
              "<Figure size 432x288 with 1 Axes>"
            ]
          },
          "metadata": {
            "needs_background": "light"
          }
        }
      ]
    },
    {
      "cell_type": "code",
      "metadata": {
        "colab": {
          "base_uri": "https://localhost:8080/"
        },
        "id": "YEveY7toq7_0",
        "outputId": "1bfc6e99-15d0-4c2e-918e-1f89a40a9c37"
      },
      "source": [
        "print(All_Crypto)"
      ],
      "execution_count": null,
      "outputs": [
        {
          "output_type": "stream",
          "text": [
            "             BTC-USD   ETH-USD   LTC-USD  ...  SOL1-USD   HEX-USD  DOT1-USD\n",
            "Date                                      ...                              \n",
            "2019-01-01       NaN       NaN       NaN  ...       NaN       NaN       NaN\n",
            "2019-01-02  0.025989  0.101039  0.045458  ...       NaN       NaN       NaN\n",
            "2019-01-03 -0.027050 -0.038135 -0.042083  ...       NaN       NaN       NaN\n",
            "2019-01-04  0.005467  0.036523  0.011786  ...       NaN       NaN       NaN\n",
            "2019-01-05 -0.003246  0.006836  0.078160  ...       NaN       NaN       NaN\n",
            "...              ...       ...       ...  ...       ...       ...       ...\n",
            "2021-08-04  0.041793  0.088825  0.031327  ...  0.051981  0.033584  0.105340\n",
            "2021-08-05  0.028229  0.037697  0.005700  ...  0.044501 -0.007296 -0.001603\n",
            "2021-08-06  0.047638  0.022499  0.030432  ...  0.055975 -0.071364  0.066291\n",
            "2021-08-07  0.040622  0.092114  0.054559  ... -0.001081 -0.051321  0.027765\n",
            "2021-08-08 -0.017005 -0.045453 -0.038604  ... -0.043896  0.019239 -0.061571\n",
            "\n",
            "[947 rows x 10 columns]\n"
          ],
          "name": "stdout"
        }
      ]
    },
    {
      "cell_type": "code",
      "metadata": {
        "id": "5esblyjsaxhY",
        "colab": {
          "base_uri": "https://localhost:8080/"
        },
        "outputId": "15f1d3b2-38b9-4409-f61e-62862fd63b5f"
      },
      "source": [
        "\n",
        "from portfoliolab.modern_portfolio_theory import CriticalLineAlgorithm\n",
        "cla = CriticalLineAlgorithm()\n",
        "cla.allocate(asset_prices=All_Crypto, solution='max_sharpe')\n",
        "cla_weights = cla.weights.sort_values(by=0, ascending=False, axis=1)\n",
        "max_sharpe_value = cla.max_sharpe # Accessing the max sharpe value\n",
        "print(cla_weights.transpose())\n"
      ],
      "execution_count": null,
      "outputs": [
        {
          "output_type": "stream",
          "text": [
            "                 0\n",
            "SOL1-USD  0.416377\n",
            "DOT1-USD  0.195575\n",
            "DOGE-USD  0.148496\n",
            "HEX-USD   0.112164\n",
            "BNB-USD   0.085837\n",
            "ADA-USD   0.027471\n",
            "BTC-USD   0.014081\n",
            "ETH-USD   0.000000\n",
            "LTC-USD   0.000000\n",
            "XRP-USD   0.000000\n"
          ],
          "name": "stdout"
        }
      ]
    },
    {
      "cell_type": "code",
      "metadata": {
        "colab": {
          "base_uri": "https://localhost:8080/",
          "height": 156
        },
        "id": "Sl8mZ7-9AVCY",
        "cellView": "code",
        "outputId": "510a2649-c6b1-48c0-cefc-ae9f712d44ea"
      },
      "source": [
        "import scipy.cluster.hierarchy as sch,random,numpy as np,pandas as pd\n",
        "from portfoliolab.modern_portfolio_theory import CriticalLineAlgorithm\n",
        "def generateData(nObs,sLength,size0,size1,mu0,sigma0,sigma1F):\n",
        "  # Time series of correlated variables\n",
        "  #1) generate random uncorrelated data\n",
        "  x=np.random.normal(mu0,sigma0,size=(nObs,size0))\n",
        "  #2) create correlation between the variables\n",
        "  cols=[random.randint(0,size0 - 1) for i in range(size1)]\n",
        "  y=x[:,cols]+np.random.normal(0,sigma0*sigma1F,size=(nObs,len(cols)))\n",
        "  x=np.append(x,y,axis=1)\n",
        "  #3) add common random shock\n",
        "  point=np.random.randint(sLength,nObs-1,size=2)\n",
        "  x[np.ix_(point,[cols[0],size0])]=np.array([[-.5,-.5],[2,2]])\n",
        "  #4) add specific random shock\n",
        "  point=np.random.randint(sLength,nObs-1,size=2)\n",
        "  x[point,cols[-1]]=np.array([-.5,2])\n",
        "  return x,cols\n",
        "\n",
        "\n",
        "def getHRP(cov,corr):\n",
        "  # Construct a hierarchical portfolio\n",
        "  corr,cov=pd.DataFrame(corr),pd.DataFrame(cov)\n",
        "  dist=correlDist(corr)\n",
        "  link=sch.linkage(dist,'single')\n",
        "  sortIx=getQuasiDiag(link)\n",
        "  sortIx=corr.index[sortIx].tolist() # recover labels\n",
        "  hrp=getRecBipart(cov,sortIx)\n",
        "  return hrp.sort_index()\n",
        "\n",
        "\n",
        "def getCLA(cov,**kargs):\n",
        "  # Compute CLA's minimum variance portfolio\n",
        "  mean=np.arange(cov.shape[0]).reshape(-1,1) # Not used by C portf\n",
        "  lB=range(mean.shape[0])\n",
        "  #uB=np.ones(mean.shape)\n",
        "  #cla=CLA(mean,cov,lB,uB)\n",
        "  #cla.solve()\n",
        "  cla = CriticalLineAlgorithm()\n",
        "  cla.allocate(covariance_matrix=cov,expected_asset_returns=mean, asset_names=lB , solution='max_sharpe')\n",
        "  cla_weights = cla.weights.sort_values(by=0, ascending=False, axis=1)\n",
        "  max_sharpe_value = cla.max_sharpe # Accessing the max sharpe value\n",
        "  return cla_weights\n",
        "\n",
        "\n",
        "numIters=1\n",
        "nObs=520\n",
        "size0=5\n",
        "size1=5\n",
        "mu0=0\n",
        "sigma0=1e-2\n",
        "sigma1F=.25\n",
        "sLength=260\n",
        "rebal=22\n",
        "# Monte Carlo experiment on HRP\n",
        "methods=[getIVP,getHRP,getCLA]\n",
        "stats,numIter={i.__name__:pd.Series() for i in methods},0\n",
        "pointers=range(sLength,nObs,rebal)\n",
        "while numIter<numIters:\n",
        "  #print (numIter)\n",
        "  #1) Prepare data for one experiment\n",
        "  x,cols=generateData(nObs,sLength,size0,size1,mu0,sigma0,sigma1F)\n",
        "  r={i.__name__:pd.Series() for i in methods}\n",
        "  #2) Compute portfolios in-sample\n",
        "  for pointer in pointers:\n",
        "    x_=x[pointer-sLength:pointer]\n",
        "    cov_,corr_=np.cov(x_,rowvar=0),np.corrcoef(x_,rowvar=0)\n",
        "    #3) Compute performance out-of-sample\n",
        "    x_=x[pointer:pointer+rebal]\n",
        "    for func in methods:\n",
        "      if func==getCLA:\n",
        "        w_=getCLA(cov_)# callback\n",
        "        r_=x_ @ (w_.transpose())\n",
        "        r_=r_.iloc[0]\n",
        "        r[func.__name__]=r[func.__name__].append(r_)\n",
        "      else:\n",
        "        w_=func(cov=cov_,corr=corr_) # callback\n",
        "        r_=pd.Series(x_ @ (w_.transpose()))\n",
        "        r[func.__name__]=r[func.__name__].append(r_)\n",
        "  #4) Evaluate and store results\n",
        "  for func in methods:\n",
        "    r_=r[func.__name__].reset_index(drop=True)\n",
        "    p_=(1+r_).cumprod()\n",
        "    stats[func.__name__].loc[numIter]=p_.iloc[-1]-1\n",
        "  numIter+=1\n",
        "#5) Report results\n",
        "stats=pd.DataFrame.from_dict(stats,orient='columns')\n",
        "stats.to_csv('stats.csv')\n",
        "from google.colab import files\n",
        "files.download(\"stats.csv\")\n",
        "df0,df1=stats.std(),stats.var()\n",
        "print (pd.concat([df0,df1,df1/df1['getHRP']-1],axis=1))\n"
      ],
      "execution_count": null,
      "outputs": [
        {
          "output_type": "stream",
          "text": [
            "/usr/local/lib/python3.7/dist-packages/ipykernel_launcher.py:56: DeprecationWarning: The default dtype for empty Series will be 'object' instead of 'float64' in a future version. Specify a dtype explicitly to silence this warning.\n",
            "/usr/local/lib/python3.7/dist-packages/ipykernel_launcher.py:62: DeprecationWarning: The default dtype for empty Series will be 'object' instead of 'float64' in a future version. Specify a dtype explicitly to silence this warning.\n",
            "/usr/local/lib/python3.7/dist-packages/ipykernel_launcher.py:24: ClusterWarning: scipy.cluster: The symmetric non-negative hollow observation matrix looks suspiciously like an uncondensed distance matrix\n"
          ],
          "name": "stderr"
        },
        {
          "output_type": "display_data",
          "data": {
            "application/javascript": [
              "\n",
              "    async function download(id, filename, size) {\n",
              "      if (!google.colab.kernel.accessAllowed) {\n",
              "        return;\n",
              "      }\n",
              "      const div = document.createElement('div');\n",
              "      const label = document.createElement('label');\n",
              "      label.textContent = `Downloading \"${filename}\": `;\n",
              "      div.appendChild(label);\n",
              "      const progress = document.createElement('progress');\n",
              "      progress.max = size;\n",
              "      div.appendChild(progress);\n",
              "      document.body.appendChild(div);\n",
              "\n",
              "      const buffers = [];\n",
              "      let downloaded = 0;\n",
              "\n",
              "      const channel = await google.colab.kernel.comms.open(id);\n",
              "      // Send a message to notify the kernel that we're ready.\n",
              "      channel.send({})\n",
              "\n",
              "      for await (const message of channel.messages) {\n",
              "        // Send a message to notify the kernel that we're ready.\n",
              "        channel.send({})\n",
              "        if (message.buffers) {\n",
              "          for (const buffer of message.buffers) {\n",
              "            buffers.push(buffer);\n",
              "            downloaded += buffer.byteLength;\n",
              "            progress.value = downloaded;\n",
              "          }\n",
              "        }\n",
              "      }\n",
              "      const blob = new Blob(buffers, {type: 'application/binary'});\n",
              "      const a = document.createElement('a');\n",
              "      a.href = window.URL.createObjectURL(blob);\n",
              "      a.download = filename;\n",
              "      div.appendChild(a);\n",
              "      a.click();\n",
              "      div.remove();\n",
              "    }\n",
              "  "
            ],
            "text/plain": [
              "<IPython.core.display.Javascript object>"
            ]
          },
          "metadata": {
            "tags": []
          }
        },
        {
          "output_type": "display_data",
          "data": {
            "application/javascript": [
              "download(\"download_82e3ba09-79d3-43fd-a49b-ebe61ff084e2\", \"stats.csv\", 88)"
            ],
            "text/plain": [
              "<IPython.core.display.Javascript object>"
            ]
          },
          "metadata": {
            "tags": []
          }
        },
        {
          "output_type": "stream",
          "text": [
            "         0   1   2\n",
            "getIVP NaN NaN NaN\n",
            "getHRP NaN NaN NaN\n",
            "getCLA NaN NaN NaN\n"
          ],
          "name": "stdout"
        }
      ]
    },
    {
      "cell_type": "code",
      "metadata": {
        "colab": {
          "base_uri": "https://localhost:8080/"
        },
        "id": "gs111L5TyDzE",
        "outputId": "8ecbb70a-1cae-4db8-b4d8-6730a073b48c"
      },
      "source": [
        "covmov=All_Crypto.cov()\n",
        "print(covmov)\n",
        "print(All_Crypto)"
      ],
      "execution_count": null,
      "outputs": [
        {
          "output_type": "stream",
          "text": [
            "               BTC-USD       ETH-USD  ...     HEX-USD       DOT1-USD\n",
            "BTC-USD   2.527084e+08  1.234266e+07  ...  386.451763  196358.371246\n",
            "ETH-USD   1.234266e+07  7.288759e+05  ...   30.381658    9504.148316\n",
            "LTC-USD   9.118202e+05  4.786484e+04  ...    1.406899     881.832814\n",
            "BNB-USD   1.952214e+06  1.152947e+05  ...    4.440305    1966.885297\n",
            "ADA-USD   7.088772e+03  4.185619e+02  ...    0.018714       6.191596\n",
            "XRP-USD   3.379980e+03  2.068744e+02  ...    0.007368       3.404243\n",
            "DOGE-USD  1.126679e+03  8.087298e+01  ...    0.003560       1.046051\n",
            "SOL1-USD  1.856705e+05  1.376914e+04  ...    0.498392     125.353866\n",
            "HEX-USD   3.864518e+02  3.038166e+01  ...    0.001532      -0.010033\n",
            "DOT1-USD  1.963584e+05  9.504148e+03  ...   -0.010033     171.539521\n",
            "\n",
            "[10 rows x 10 columns]\n",
            "                 BTC-USD      ETH-USD  ...   HEX-USD   DOT1-USD\n",
            "Date                                   ...                     \n",
            "2019-01-01   3843.520020   140.819412  ...       NaN        NaN\n",
            "2019-01-02   3943.409424   155.047684  ...       NaN        NaN\n",
            "2019-01-03   3836.741211   149.135010  ...       NaN        NaN\n",
            "2019-01-04   3857.717529   154.581940  ...       NaN        NaN\n",
            "2019-01-05   3845.194580   155.638596  ...       NaN        NaN\n",
            "...                  ...          ...  ...       ...        ...\n",
            "2021-08-04  39747.503906  2724.619873  ...  0.145970  19.163094\n",
            "2021-08-05  40869.554688  2827.328857  ...  0.144905  19.132372\n",
            "2021-08-06  42816.500000  2890.941650  ...  0.134564  20.400679\n",
            "2021-08-07  44555.800781  3157.238770  ...  0.127658  20.967094\n",
            "2021-08-08  43798.117188  3013.732666  ...  0.130114  19.676132\n",
            "\n",
            "[947 rows x 10 columns]\n"
          ],
          "name": "stdout"
        }
      ]
    },
    {
      "cell_type": "code",
      "metadata": {
        "colab": {
          "base_uri": "https://localhost:8080/",
          "height": 768
        },
        "id": "a5cAwbHtsK8-",
        "outputId": "583d5b80-f123-4c81-f058-88b327938a4e"
      },
      "source": [
        "\n",
        "methods=[getIVP,getHRP,getCLA]\n",
        "sLength=180\n",
        "obs=360\n",
        "rebal=30\n",
        "pointers=range(sLength,obs,rebal)\n",
        "r={i.__name__:pd.Series() for i in methods}\n",
        "#2) Compute portfolios in-sample\n",
        "for pointer in pointers:\n",
        "  x_=All_Crypto[pointer-sLength:pointer]\n",
        "  cov_,corr_=All_Crypto.cov(),All_Crypto.corr()\n",
        "  #3) Compute performance out-of-sample\n",
        "  x_=All_Crypto[pointer:pointer+rebal]\n",
        "  x_=x_.fillna(0)\n",
        "  x_=x_.values\n",
        "  print(type(x_))\n",
        "  for func in methods:\n",
        "    if func==getCLA:\n",
        "      w_=getCLA(cov_.values).iloc[0]# callback\n",
        "      r_=pd.Series(x_ @ (w_.transpose()))\n",
        "      #print(r_.shape)\n",
        "      #r_=r_.iloc[0]\n",
        "      r[func.__name__]=r[func.__name__].append(r_)\n",
        "    else:\n",
        "      w_=func(cov=cov_,corr=corr_) # callback\n",
        "      \n",
        "      r_=pd.Series(x_ @ (w_.transpose()))\n",
        "      #print(r_)\n",
        "      r[func.__name__]=r[func.__name__].append(r_)\n",
        "#4) Evaluate and store results\n",
        "print(r)\n",
        "\n",
        "for func in methods:\n",
        "  r_=r[func.__name__].reset_index(drop=True)\n",
        "  p_=(1+r_).cumprod()\n",
        "  stats[func.__name__].loc[numIter]=p_.iloc[-1]-1\n",
        "stats=pd.DataFrame.from_dict(stats,orient='columns')\n",
        "stats.to_csv('stats.csv')\n",
        "from google.colab import files\n",
        "files.download(\"stats.csv\")"
      ],
      "execution_count": null,
      "outputs": [
        {
          "output_type": "stream",
          "text": [
            "/usr/local/lib/python3.7/dist-packages/ipykernel_launcher.py:7: DeprecationWarning: The default dtype for empty Series will be 'object' instead of 'float64' in a future version. Specify a dtype explicitly to silence this warning.\n",
            "  import sys\n",
            "/usr/local/lib/python3.7/dist-packages/ipykernel_launcher.py:24: ClusterWarning: scipy.cluster: The symmetric non-negative hollow observation matrix looks suspiciously like an uncondensed distance matrix\n"
          ],
          "name": "stderr"
        },
        {
          "output_type": "stream",
          "text": [
            "<class 'numpy.ndarray'>\n",
            "<class 'numpy.ndarray'>\n",
            "<class 'numpy.ndarray'>\n",
            "<class 'numpy.ndarray'>\n",
            "<class 'numpy.ndarray'>\n",
            "<class 'numpy.ndarray'>\n",
            "{'getIVP': 0    -0.077941\n",
            "1     0.002781\n",
            "2    -0.007987\n",
            "3     0.045095\n",
            "4    -0.039988\n",
            "        ...   \n",
            "25    0.028872\n",
            "26    0.002998\n",
            "27    0.001757\n",
            "28   -0.005935\n",
            "29   -0.001169\n",
            "Length: 180, dtype: float64, 'getHRP': 0    -0.062371\n",
            "1     0.003614\n",
            "2    -0.010235\n",
            "3     0.030303\n",
            "4    -0.028620\n",
            "        ...   \n",
            "25   -0.060520\n",
            "26    0.617474\n",
            "27   -0.034914\n",
            "28    0.066938\n",
            "29   -0.005562\n",
            "Length: 180, dtype: float64, 'getCLA': 0    -0.091966\n",
            "1    -0.006045\n",
            "2     0.001369\n",
            "3     0.069844\n",
            "4    -0.050306\n",
            "        ...   \n",
            "25    0.041243\n",
            "26   -0.025119\n",
            "27   -0.000371\n",
            "28   -0.010428\n",
            "29   -0.003004\n",
            "Length: 180, dtype: float64}\n"
          ],
          "name": "stdout"
        },
        {
          "output_type": "display_data",
          "data": {
            "application/javascript": [
              "\n",
              "    async function download(id, filename, size) {\n",
              "      if (!google.colab.kernel.accessAllowed) {\n",
              "        return;\n",
              "      }\n",
              "      const div = document.createElement('div');\n",
              "      const label = document.createElement('label');\n",
              "      label.textContent = `Downloading \"${filename}\": `;\n",
              "      div.appendChild(label);\n",
              "      const progress = document.createElement('progress');\n",
              "      progress.max = size;\n",
              "      div.appendChild(progress);\n",
              "      document.body.appendChild(div);\n",
              "\n",
              "      const buffers = [];\n",
              "      let downloaded = 0;\n",
              "\n",
              "      const channel = await google.colab.kernel.comms.open(id);\n",
              "      // Send a message to notify the kernel that we're ready.\n",
              "      channel.send({})\n",
              "\n",
              "      for await (const message of channel.messages) {\n",
              "        // Send a message to notify the kernel that we're ready.\n",
              "        channel.send({})\n",
              "        if (message.buffers) {\n",
              "          for (const buffer of message.buffers) {\n",
              "            buffers.push(buffer);\n",
              "            downloaded += buffer.byteLength;\n",
              "            progress.value = downloaded;\n",
              "          }\n",
              "        }\n",
              "      }\n",
              "      const blob = new Blob(buffers, {type: 'application/binary'});\n",
              "      const a = document.createElement('a');\n",
              "      a.href = window.URL.createObjectURL(blob);\n",
              "      a.download = filename;\n",
              "      div.appendChild(a);\n",
              "      a.click();\n",
              "      div.remove();\n",
              "    }\n",
              "  "
            ],
            "text/plain": [
              "<IPython.core.display.Javascript object>"
            ]
          },
          "metadata": {
            "tags": []
          }
        },
        {
          "output_type": "display_data",
          "data": {
            "application/javascript": [
              "download(\"download_d28262d3-7df5-4e1b-9cc4-4dbe013009ac\", \"stats.csv\", 88)"
            ],
            "text/plain": [
              "<IPython.core.display.Javascript object>"
            ]
          },
          "metadata": {
            "tags": []
          }
        }
      ]
    }
  ]
}